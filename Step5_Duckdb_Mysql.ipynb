{
 "cells": [
  {
   "cell_type": "code",
   "execution_count": 1,
   "id": "425b76b3-7134-4d4c-a47d-906a61577948",
   "metadata": {},
   "outputs": [],
   "source": [
    "import pandas as pd\n",
    "import duckdb"
   ]
  },
  {
   "cell_type": "code",
   "execution_count": 2,
   "id": "b0419177-9035-4716-9d86-5f4c5486508e",
   "metadata": {},
   "outputs": [],
   "source": [
    "parquet_file = \"data.parquet\"\n",
    "con = duckdb.connect('taxi_analytics.duckdb')"
   ]
  },
  {
   "cell_type": "code",
   "execution_count": 3,
   "id": "a754d3dd-ebfb-4e7f-bda2-7b93ba032978",
   "metadata": {},
   "outputs": [
    {
     "data": {
      "text/plain": [
       "<duckdb.duckdb.DuckDBPyConnection at 0x12f96b930>"
      ]
     },
     "execution_count": 3,
     "metadata": {},
     "output_type": "execute_result"
    }
   ],
   "source": [
    "con.execute(\"CREATE TABLE IF NOT EXISTS temp_taxi_data AS SELECT * FROM read_parquet('data.parquet')\")"
   ]
  },
  {
   "cell_type": "code",
   "execution_count": 4,
   "id": "5c68d0ed-36e9-49f9-82fb-a6f2d56cf414",
   "metadata": {
    "tags": []
   },
   "outputs": [],
   "source": [
    "schema_info = con.execute(\"PRAGMA table_info('temp_taxi_data')\").fetchall()"
   ]
  },
  {
   "cell_type": "code",
   "execution_count": 5,
   "id": "10751251-ff3b-49bc-93a2-c59ec7039df6",
   "metadata": {},
   "outputs": [],
   "source": [
    "con.close()"
   ]
  },
  {
   "cell_type": "code",
   "execution_count": 6,
   "id": "7f6d85fe-b2ff-458f-9585-aa10f5c08bb2",
   "metadata": {},
   "outputs": [],
   "source": [
    "import mysql.connector\n",
    "\n",
    "duckdb_con = duckdb.connect('taxi_analytics.duckdb')"
   ]
  },
  {
   "cell_type": "code",
   "execution_count": 7,
   "id": "2302a070-89e7-4810-92c0-82c44d5ddaf9",
   "metadata": {},
   "outputs": [
    {
     "name": "stdout",
     "output_type": "stream",
     "text": [
      "MySQL CREATE TABLE statement:\n",
      "CREATE TABLE temp_taxi_data (`VendorID` BIGINT, `lpep_pickup_datetime` DATETIME, `lpep_dropoff_datetime` DATETIME, `trip_duration` BIGINT, `day_of_week` VARCHAR(255), `hour_of_day` INT, `store_and_fwd_flag` VARCHAR(255), `RatecodeID` DOUBLE, `PULocationID` BIGINT, `DOLocationID` BIGINT, `passenger_count` DOUBLE, `trip_distance` DOUBLE, `fare_amount` DOUBLE, `extra` DOUBLE, `mta_tax` DOUBLE, `tip_amount` DOUBLE, `tolls_amount` DOUBLE, `improvement_surcharge` DOUBLE, `total_amount` DOUBLE, `payment_type` DOUBLE, `trip_type` DOUBLE, `congestion_surcharge` DOUBLE, `fare_per_mile` DOUBLE, `location_pair` VARCHAR(255));\n",
      "Fetched 1673170 rows from DuckDB's 'temp_taxi_data' table.\n",
      "Database 'taxi_data' created or already exists.\n",
      "Using database 'taxi_data'.\n",
      "Created table 'temp_taxi_data' in MySQL.\n"
     ]
    }
   ],
   "source": [
    "def convert_type(duck_type):\n",
    "    duck_type = duck_type.upper()\n",
    "    if \"BIGINT\" in duck_type:\n",
    "        return \"BIGINT\"\n",
    "    elif \"INT\" in duck_type: \n",
    "        return \"INT\"\n",
    "    elif \"DOUBLE\" in duck_type or \"FLOAT\" in duck_type:\n",
    "        return \"DOUBLE\"\n",
    "    elif \"VARCHAR\" in duck_type or \"CHAR\" in duck_type:\n",
    "        return \"VARCHAR(255)\"\n",
    "    elif \"BOOLEAN\" in duck_type:\n",
    "        return \"TINYINT(1)\"\n",
    "    elif \"DATE\" in duck_type:\n",
    "        return \"DATE\"\n",
    "    elif \"TIMESTAMP\" in duck_type:\n",
    "        return \"DATETIME\"\n",
    "    else:\n",
    "        return \"TEXT\"\n",
    "\n",
    "columns_def = []\n",
    "for cid, col_name, col_type, notnull, dflt_value, pk in schema_info:\n",
    "    mysql_type = convert_type(col_type)\n",
    "    col_def = f\"`{col_name}` {mysql_type}\"\n",
    "    if notnull:\n",
    "        col_def += \" NOT NULL\"\n",
    "    if pk:\n",
    "        col_def += \" PRIMARY KEY\"\n",
    "    columns_def.append(col_def)\n",
    "\n",
    "create_table_sql = f\"CREATE TABLE temp_taxi_data ({', '.join(columns_def)});\"\n",
    "print(\"MySQL CREATE TABLE statement:\")\n",
    "print(create_table_sql)\n",
    "\n",
    "duckdb_data = duckdb_con.execute(\"SELECT * FROM temp_taxi_data\").fetchall()\n",
    "print(f\"Fetched {len(duckdb_data)} rows from DuckDB's 'temp_taxi_data' table.\")\n",
    "\n",
    "mysql_conn = mysql.connector.connect(option_files=\"/etc/my.cnf\")\n",
    "cursor = mysql_conn.cursor()\n",
    "\n",
    "new_db = \"taxi_data\"\n",
    "cursor.execute(f\"CREATE DATABASE IF NOT EXISTS {new_db};\")\n",
    "print(f\"Database '{new_db}' created or already exists.\")\n",
    "cursor.execute(f\"USE {new_db};\")\n",
    "print(f\"Using database '{new_db}'.\")\n",
    "\n",
    "cursor.execute(\"DROP TABLE IF EXISTS temp_taxi_data;\")\n",
    "cursor.execute(create_table_sql)\n",
    "mysql_conn.commit()\n",
    "print(\"Created table 'temp_taxi_data' in MySQL.\")"
   ]
  },
  {
   "cell_type": "code",
   "execution_count": 8,
   "id": "6dfc9525-b651-4107-bd7b-b4c046d2a744",
   "metadata": {},
   "outputs": [
    {
     "name": "stdout",
     "output_type": "stream",
     "text": [
      "Inserted rows 0 to 9999\n",
      "Inserted rows 10000 to 19999\n",
      "Inserted rows 20000 to 29999\n",
      "Inserted rows 30000 to 39999\n",
      "Inserted rows 40000 to 49999\n",
      "Inserted rows 50000 to 59999\n",
      "Inserted rows 60000 to 69999\n",
      "Inserted rows 70000 to 79999\n",
      "Inserted rows 80000 to 89999\n",
      "Inserted rows 90000 to 99999\n",
      "Inserted rows 100000 to 109999\n",
      "Inserted rows 110000 to 119999\n",
      "Inserted rows 120000 to 129999\n",
      "Inserted rows 130000 to 139999\n",
      "Inserted rows 140000 to 149999\n",
      "Inserted rows 150000 to 159999\n",
      "Inserted rows 160000 to 169999\n",
      "Inserted rows 170000 to 179999\n",
      "Inserted rows 180000 to 189999\n",
      "Inserted rows 190000 to 199999\n",
      "Inserted rows 200000 to 209999\n",
      "Inserted rows 210000 to 219999\n",
      "Inserted rows 220000 to 229999\n",
      "Inserted rows 230000 to 239999\n",
      "Inserted rows 240000 to 249999\n",
      "Inserted rows 250000 to 259999\n",
      "Inserted rows 260000 to 269999\n",
      "Inserted rows 270000 to 279999\n",
      "Inserted rows 280000 to 289999\n",
      "Inserted rows 290000 to 299999\n",
      "Inserted rows 300000 to 309999\n",
      "Inserted rows 310000 to 319999\n",
      "Inserted rows 320000 to 329999\n",
      "Inserted rows 330000 to 339999\n",
      "Inserted rows 340000 to 349999\n",
      "Inserted rows 350000 to 359999\n",
      "Inserted rows 360000 to 369999\n",
      "Inserted rows 370000 to 379999\n",
      "Inserted rows 380000 to 389999\n",
      "Inserted rows 390000 to 399999\n",
      "Inserted rows 400000 to 409999\n",
      "Inserted rows 410000 to 419999\n",
      "Inserted rows 420000 to 429999\n",
      "Inserted rows 430000 to 439999\n",
      "Inserted rows 440000 to 449999\n",
      "Inserted rows 450000 to 459999\n",
      "Inserted rows 460000 to 469999\n",
      "Inserted rows 470000 to 479999\n",
      "Inserted rows 480000 to 489999\n",
      "Inserted rows 490000 to 499999\n",
      "Inserted rows 500000 to 509999\n",
      "Inserted rows 510000 to 519999\n",
      "Inserted rows 520000 to 529999\n",
      "Inserted rows 530000 to 539999\n",
      "Inserted rows 540000 to 549999\n",
      "Inserted rows 550000 to 559999\n",
      "Inserted rows 560000 to 569999\n",
      "Inserted rows 570000 to 579999\n",
      "Inserted rows 580000 to 589999\n",
      "Inserted rows 590000 to 599999\n",
      "Inserted rows 600000 to 609999\n",
      "Inserted rows 610000 to 619999\n",
      "Inserted rows 620000 to 629999\n",
      "Inserted rows 630000 to 639999\n",
      "Inserted rows 640000 to 649999\n",
      "Inserted rows 650000 to 659999\n",
      "Inserted rows 660000 to 669999\n",
      "Inserted rows 670000 to 679999\n",
      "Inserted rows 680000 to 689999\n",
      "Inserted rows 690000 to 699999\n",
      "Inserted rows 700000 to 709999\n",
      "Inserted rows 710000 to 719999\n",
      "Inserted rows 720000 to 729999\n",
      "Inserted rows 730000 to 739999\n",
      "Inserted rows 740000 to 749999\n",
      "Inserted rows 750000 to 759999\n",
      "Inserted rows 760000 to 769999\n",
      "Inserted rows 770000 to 779999\n",
      "Inserted rows 780000 to 789999\n",
      "Inserted rows 790000 to 799999\n",
      "Inserted rows 800000 to 809999\n",
      "Inserted rows 810000 to 819999\n",
      "Inserted rows 820000 to 829999\n",
      "Inserted rows 830000 to 839999\n",
      "Inserted rows 840000 to 849999\n",
      "Inserted rows 850000 to 859999\n",
      "Inserted rows 860000 to 869999\n",
      "Inserted rows 870000 to 879999\n",
      "Inserted rows 880000 to 889999\n",
      "Inserted rows 890000 to 899999\n",
      "Inserted rows 900000 to 909999\n",
      "Inserted rows 910000 to 919999\n",
      "Inserted rows 920000 to 929999\n",
      "Inserted rows 930000 to 939999\n",
      "Inserted rows 940000 to 949999\n",
      "Inserted rows 950000 to 959999\n",
      "Inserted rows 960000 to 969999\n",
      "Inserted rows 970000 to 979999\n",
      "Inserted rows 980000 to 989999\n",
      "Inserted rows 990000 to 999999\n",
      "Inserted rows 1000000 to 1009999\n",
      "Inserted rows 1010000 to 1019999\n",
      "Inserted rows 1020000 to 1029999\n",
      "Inserted rows 1030000 to 1039999\n",
      "Inserted rows 1040000 to 1049999\n",
      "Inserted rows 1050000 to 1059999\n",
      "Inserted rows 1060000 to 1069999\n",
      "Inserted rows 1070000 to 1079999\n",
      "Inserted rows 1080000 to 1089999\n",
      "Inserted rows 1090000 to 1099999\n",
      "Inserted rows 1100000 to 1109999\n",
      "Inserted rows 1110000 to 1119999\n",
      "Inserted rows 1120000 to 1129999\n",
      "Inserted rows 1130000 to 1139999\n",
      "Inserted rows 1140000 to 1149999\n",
      "Inserted rows 1150000 to 1159999\n",
      "Inserted rows 1160000 to 1169999\n",
      "Inserted rows 1170000 to 1179999\n",
      "Inserted rows 1180000 to 1189999\n",
      "Inserted rows 1190000 to 1199999\n",
      "Inserted rows 1200000 to 1209999\n",
      "Inserted rows 1210000 to 1219999\n",
      "Inserted rows 1220000 to 1229999\n",
      "Inserted rows 1230000 to 1239999\n",
      "Inserted rows 1240000 to 1249999\n",
      "Inserted rows 1250000 to 1259999\n",
      "Inserted rows 1260000 to 1269999\n",
      "Inserted rows 1270000 to 1279999\n",
      "Inserted rows 1280000 to 1289999\n",
      "Inserted rows 1290000 to 1299999\n",
      "Inserted rows 1300000 to 1309999\n",
      "Inserted rows 1310000 to 1319999\n",
      "Inserted rows 1320000 to 1329999\n",
      "Inserted rows 1330000 to 1339999\n",
      "Inserted rows 1340000 to 1349999\n",
      "Inserted rows 1350000 to 1359999\n",
      "Inserted rows 1360000 to 1369999\n",
      "Inserted rows 1370000 to 1379999\n",
      "Inserted rows 1380000 to 1389999\n",
      "Inserted rows 1390000 to 1399999\n",
      "Inserted rows 1400000 to 1409999\n",
      "Inserted rows 1410000 to 1419999\n",
      "Inserted rows 1420000 to 1429999\n",
      "Inserted rows 1430000 to 1439999\n",
      "Inserted rows 1440000 to 1449999\n",
      "Inserted rows 1450000 to 1459999\n",
      "Inserted rows 1460000 to 1469999\n",
      "Inserted rows 1470000 to 1479999\n",
      "Inserted rows 1480000 to 1489999\n",
      "Inserted rows 1490000 to 1499999\n",
      "Inserted rows 1500000 to 1509999\n",
      "Inserted rows 1510000 to 1519999\n",
      "Inserted rows 1520000 to 1529999\n",
      "Inserted rows 1530000 to 1539999\n",
      "Inserted rows 1540000 to 1549999\n",
      "Inserted rows 1550000 to 1559999\n",
      "Inserted rows 1560000 to 1569999\n",
      "Inserted rows 1570000 to 1579999\n",
      "Inserted rows 1580000 to 1589999\n",
      "Inserted rows 1590000 to 1599999\n",
      "Inserted rows 1600000 to 1609999\n",
      "Inserted rows 1610000 to 1619999\n",
      "Inserted rows 1620000 to 1629999\n",
      "Inserted rows 1630000 to 1639999\n",
      "Inserted rows 1640000 to 1649999\n",
      "Inserted rows 1650000 to 1659999\n",
      "Inserted rows 1660000 to 1669999\n",
      "Inserted rows 1670000 to 1673169\n",
      "Done!\n"
     ]
    }
   ],
   "source": [
    "num_cols = len(schema_info)\n",
    "placeholders = \", \".join([\"%s\"] * num_cols)\n",
    "insert_sql = f\"INSERT INTO temp_taxi_data VALUES ({placeholders})\"\n",
    "\n",
    "batch_size = 10000\n",
    "for i in range(0, len(duckdb_data), batch_size):\n",
    "    batch = duckdb_data[i : i + batch_size]\n",
    "    cursor.executemany(insert_sql, batch)\n",
    "    mysql_conn.commit()\n",
    "    print(f\"Inserted rows {i} to {i + len(batch) - 1}\") \n",
    "\n",
    "print(\"Done!\")"
   ]
  },
  {
   "cell_type": "code",
   "execution_count": 9,
   "id": "fa90edad-0779-42fe-8940-c6c4b3cc69c2",
   "metadata": {},
   "outputs": [
    {
     "name": "stdout",
     "output_type": "stream",
     "text": [
      "Done!\n"
     ]
    }
   ],
   "source": [
    "cursor.close()\n",
    "mysql_conn.close()\n",
    "duckdb_con.close()\n",
    "print(\"Done!\")"
   ]
  },
  {
   "cell_type": "code",
   "execution_count": null,
   "id": "0680b1a5-1c97-4200-92b9-8f27fd44f1dc",
   "metadata": {},
   "outputs": [],
   "source": []
  }
 ],
 "metadata": {
  "kernelspec": {
   "display_name": "Python 3 (ipykernel)",
   "language": "python",
   "name": "python3"
  },
  "language_info": {
   "codemirror_mode": {
    "name": "ipython",
    "version": 3
   },
   "file_extension": ".py",
   "mimetype": "text/x-python",
   "name": "python",
   "nbconvert_exporter": "python",
   "pygments_lexer": "ipython3",
   "version": "3.9.18"
  }
 },
 "nbformat": 4,
 "nbformat_minor": 5
}
